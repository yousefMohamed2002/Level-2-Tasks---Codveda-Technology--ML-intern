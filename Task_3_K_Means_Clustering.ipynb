{
  "nbformat": 4,
  "nbformat_minor": 0,
  "metadata": {
    "colab": {
      "provenance": [],
      "authorship_tag": "ABX9TyNpedHW1TZu6AdGZtJw5FoI",
      "include_colab_link": true
    },
    "kernelspec": {
      "name": "python3",
      "display_name": "Python 3"
    },
    "language_info": {
      "name": "python"
    }
  },
  "cells": [
    {
      "cell_type": "markdown",
      "metadata": {
        "id": "view-in-github",
        "colab_type": "text"
      },
      "source": [
        "<a href=\"https://colab.research.google.com/github/yousefMohamed2002/Level-2-Tasks---Codveda-Technology--ML-intern/blob/main/Task_3_K_Means_Clustering.ipynb\" target=\"_parent\"><img src=\"https://colab.research.google.com/assets/colab-badge.svg\" alt=\"Open In Colab\"/></a>"
      ]
    },
    {
      "cell_type": "code",
      "source": [
        "import pandas as pd\n",
        "from sklearn.feature_extraction.text import  TfidfVectorizer\n",
        "from sklearn.preprocessing import LabelEncoder\n",
        "from sklearn.preprocessing import StandardScaler\n",
        "from scipy.sparse import hstack\n",
        "from sklearn.cluster import KMeans\n",
        "from sklearn.metrics import silhouette_score\n",
        "from sklearn.metrics import adjusted_rand_score\n",
        "df=pd.read_csv('/content/3) Sentiment dataset.csv')\n",
        "df['Sentiment']=df['Sentiment'].str.lower()\n",
        "df['Sentiment']=df['Sentiment'].str.strip()\n",
        "textVector=TfidfVectorizer(stop_words='english')\n",
        "text=textVector.fit_transform(df['Text'])\n",
        "hachtageVector=TfidfVectorizer(stop_words='english')\n",
        "hacht=hachtageVector.fit_transform(df['Hashtags'])\n",
        "\n",
        "Scaler=StandardScaler()\n",
        "numeric=Scaler.fit_transform(df[['Retweets','Likes']])\n",
        "le=LabelEncoder()\n",
        "Year=le.fit_transform(df['Year']).reshape(-1,1)\n",
        "Month=le.fit_transform(df['Month']).reshape(-1,1)\n",
        "Day=le.fit_transform(df['Day']).reshape(-1,1)\n",
        "Hour=le.fit_transform(df['Hour']).reshape(-1,1)\n",
        "countery=le.fit_transform(df['Country']).reshape(-1,1)\n",
        "y=le.fit_transform(df['Sentiment'])\n",
        "print(\"Encoded values:\", y[:10])   # show first 10\n",
        "print(\"Mapping:\", dict(zip(le.classes_, le.transform(le.classes_))))\n",
        "x=hstack([text,hacht,countery,Year,numeric])\n",
        "for k in range(2,20):\n",
        "  kmeans =KMeans(n_clusters=k, random_state=42, n_init=10) # Added n_init to avoid FutureWarning\n",
        "  df[f\"Cluster_{k}\"]=kmeans.fit_predict(x) # Use f-string for dynamic column names\n",
        "  sil_score = silhouette_score(x, kmeans.labels_)\n",
        "  print(f\"k={k}, Silhouette Score:\", sil_score)\n"
      ],
      "metadata": {
        "colab": {
          "base_uri": "https://localhost:8080/"
        },
        "id": "gDpph-pqWvcI",
        "outputId": "f7b07534-283f-4bd4-c634-20df7a596de9"
      },
      "execution_count": 69,
      "outputs": [
        {
          "output_type": "stream",
          "name": "stdout",
          "text": [
            "Encoded values: [146 134 146 146 135 146 146 146 134 135]\n",
            "Mapping: {'acceptance': np.int64(0), 'accomplishment': np.int64(1), 'admiration': np.int64(2), 'adoration': np.int64(3), 'adrenaline': np.int64(4), 'adventure': np.int64(5), 'affection': np.int64(6), 'amazement': np.int64(7), 'ambivalence': np.int64(8), 'amusement': np.int64(9), 'anger': np.int64(10), 'anticipation': np.int64(11), 'anxiety': np.int64(12), 'appreciation': np.int64(13), 'apprehensive': np.int64(14), 'arousal': np.int64(15), 'artisticburst': np.int64(16), 'awe': np.int64(17), 'bad': np.int64(18), 'betrayal': np.int64(19), 'bitter': np.int64(20), 'bitterness': np.int64(21), 'bittersweet': np.int64(22), 'blessed': np.int64(23), 'boredom': np.int64(24), 'breakthrough': np.int64(25), 'calmness': np.int64(26), 'captivation': np.int64(27), 'celebration': np.int64(28), 'celestial wonder': np.int64(29), 'challenge': np.int64(30), 'charm': np.int64(31), 'colorful': np.int64(32), 'compassion': np.int64(33), 'compassionate': np.int64(34), 'confidence': np.int64(35), 'confident': np.int64(36), 'confusion': np.int64(37), 'connection': np.int64(38), 'contemplation': np.int64(39), 'contentment': np.int64(40), 'coziness': np.int64(41), 'creative inspiration': np.int64(42), 'creativity': np.int64(43), 'culinary adventure': np.int64(44), 'culinaryodyssey': np.int64(45), 'curiosity': np.int64(46), 'darkness': np.int64(47), 'dazzle': np.int64(48), 'desolation': np.int64(49), 'despair': np.int64(50), 'desperation': np.int64(51), 'determination': np.int64(52), 'devastated': np.int64(53), 'disappointed': np.int64(54), 'disappointment': np.int64(55), 'disgust': np.int64(56), 'dismissive': np.int64(57), 'dreamchaser': np.int64(58), 'ecstasy': np.int64(59), 'elation': np.int64(60), 'elegance': np.int64(61), 'embarrassed': np.int64(62), 'emotion': np.int64(63), 'emotionalstorm': np.int64(64), 'empathetic': np.int64(65), 'empowerment': np.int64(66), 'enchantment': np.int64(67), 'energy': np.int64(68), 'engagement': np.int64(69), 'enjoyment': np.int64(70), 'enthusiasm': np.int64(71), 'envious': np.int64(72), 'envisioning history': np.int64(73), 'envy': np.int64(74), 'euphoria': np.int64(75), 'excitement': np.int64(76), 'exhaustion': np.int64(77), 'exploration': np.int64(78), 'fear': np.int64(79), 'fearful': np.int64(80), 'festivejoy': np.int64(81), 'free-spirited': np.int64(82), 'freedom': np.int64(83), 'friendship': np.int64(84), 'frustrated': np.int64(85), 'frustration': np.int64(86), 'fulfillment': np.int64(87), 'grandeur': np.int64(88), 'grateful': np.int64(89), 'gratitude': np.int64(90), 'grief': np.int64(91), 'happiness': np.int64(92), 'happy': np.int64(93), 'harmony': np.int64(94), 'hate': np.int64(95), 'heartache': np.int64(96), 'heartbreak': np.int64(97), 'heartwarming': np.int64(98), 'helplessness': np.int64(99), 'hope': np.int64(100), 'hopeful': np.int64(101), 'hypnotic': np.int64(102), 'iconic': np.int64(103), 'imagination': np.int64(104), 'immersion': np.int64(105), 'indifference': np.int64(106), 'innerjourney': np.int64(107), 'inspiration': np.int64(108), 'inspired': np.int64(109), 'intimidation': np.int64(110), 'intrigue': np.int64(111), 'isolation': np.int64(112), 'jealous': np.int64(113), 'jealousy': np.int64(114), 'journey': np.int64(115), 'joy': np.int64(116), 'joy in baking': np.int64(117), 'joyfulreunion': np.int64(118), 'kind': np.int64(119), 'kindness': np.int64(120), 'loneliness': np.int64(121), 'loss': np.int64(122), 'lostlove': np.int64(123), 'love': np.int64(124), 'marvel': np.int64(125), 'melancholy': np.int64(126), 'melodic': np.int64(127), 'mesmerizing': np.int64(128), 'mindfulness': np.int64(129), 'miscalculation': np.int64(130), 'mischievous': np.int64(131), 'motivation': np.int64(132), \"nature's beauty\": np.int64(133), 'negative': np.int64(134), 'neutral': np.int64(135), 'nostalgia': np.int64(136), 'numbness': np.int64(137), 'obstacle': np.int64(138), \"ocean's freedom\": np.int64(139), 'optimism': np.int64(140), 'overjoyed': np.int64(141), 'overwhelmed': np.int64(142), 'pensive': np.int64(143), 'playful': np.int64(144), 'playfuljoy': np.int64(145), 'positive': np.int64(146), 'positivity': np.int64(147), 'pressure': np.int64(148), 'pride': np.int64(149), 'proud': np.int64(150), 'radiance': np.int64(151), 'reflection': np.int64(152), 'regret': np.int64(153), 'rejuvenation': np.int64(154), 'relief': np.int64(155), 'renewed effort': np.int64(156), 'resentment': np.int64(157), 'resilience': np.int64(158), 'reverence': np.int64(159), 'romance': np.int64(160), 'ruins': np.int64(161), 'runway creativity': np.int64(162), 'sad': np.int64(163), 'sadness': np.int64(164), 'satisfaction': np.int64(165), 'serenity': np.int64(166), 'shame': np.int64(167), 'solace': np.int64(168), 'solitude': np.int64(169), 'sorrow': np.int64(170), 'spark': np.int64(171), 'success': np.int64(172), 'suffering': np.int64(173), 'surprise': np.int64(174), 'suspense': np.int64(175), 'sympathy': np.int64(176), 'tenderness': np.int64(177), 'thrill': np.int64(178), 'thrilling journey': np.int64(179), 'touched': np.int64(180), 'tranquility': np.int64(181), 'triumph': np.int64(182), 'vibrancy': np.int64(183), 'whimsy': np.int64(184), 'whispers of the past': np.int64(185), 'winter magic': np.int64(186), 'wonder': np.int64(187), 'wonderment': np.int64(188), 'yearning': np.int64(189), 'zest': np.int64(190)}\n",
            "k=2, Silhouette Score: 0.7166996170343205\n",
            "k=3, Silhouette Score: 0.6816584161228265\n",
            "k=4, Silhouette Score: 0.582154099860857\n",
            "k=5, Silhouette Score: 0.5518063491420464\n",
            "k=6, Silhouette Score: 0.5214412061232196\n",
            "k=7, Silhouette Score: 0.5037578582371914\n",
            "k=8, Silhouette Score: 0.4956078427201881\n",
            "k=9, Silhouette Score: 0.4911950318854897\n",
            "k=10, Silhouette Score: 0.4801873781476721\n",
            "k=11, Silhouette Score: 0.47290632759206636\n",
            "k=12, Silhouette Score: 0.4406167049206444\n",
            "k=13, Silhouette Score: 0.42680401663336065\n",
            "k=14, Silhouette Score: 0.4229838070558126\n",
            "k=15, Silhouette Score: 0.40752039879801166\n",
            "k=16, Silhouette Score: 0.398121288665952\n",
            "k=17, Silhouette Score: 0.39736950386736347\n",
            "k=18, Silhouette Score: 0.38338510867770176\n",
            "k=19, Silhouette Score: 0.3783188803349039\n"
          ]
        }
      ]
    }
  ]
}